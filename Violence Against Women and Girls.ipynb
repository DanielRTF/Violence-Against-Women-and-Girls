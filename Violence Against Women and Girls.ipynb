{
 "cells": [
  {
   "cell_type": "markdown",
   "id": "7f29dba1-eb0e-41cf-a32c-658e5626d733",
   "metadata": {},
   "source": [
    "## Table of Contents\n"
   ]
  },
  {
   "cell_type": "markdown",
   "id": "7b69e906-d086-4954-bd57-9a9b18ea5d39",
   "metadata": {},
   "source": [
    "## Goals\n",
    "This notebook contains an analysis on Violence Against Women and Girls data. The goal for this project was to do the following:\n",
    "* Get acquainted with the data\r",
    "* \n",
    "Clean the data so it is ready for analysi\n",
    "* Develop some questions for analysis\n",
    "* Analyze variables within the data to gain patterns and insights on these questionsons"
   ]
  },
  {
   "cell_type": "markdown",
   "id": "9b8f8cbe-0ea0-4855-afe1-cb5d585b532f",
   "metadata": {},
   "source": [
    "## Data \n",
    "The data for this project was downloaded from Kaggle:\n",
    "\n",
    "https://www.kaggle.com/datasets/andrewmvd/violence-against-women-and-girls?resource=download\n",
    "\n",
    "Information regarding the features for the data are located in the `Column` section on the website."
   ]
  },
  {
   "cell_type": "markdown",
   "id": "fcddd5e3-20aa-48d0-8579-6a516796a506",
   "metadata": {},
   "source": [
    "## Loading Data"
   ]
  },
  {
   "cell_type": "code",
   "execution_count": 17,
   "id": "435cc966-8d8d-4280-a4c1-89300d30da5d",
   "metadata": {},
   "outputs": [],
   "source": [
    "import pandas as pd\n",
    "import seaborn as sns\n",
    "import matplotlib.pyplot as plt\n",
    "import numpy as np\n",
    "import re"
   ]
  },
  {
   "cell_type": "code",
   "execution_count": 37,
   "id": "a317bb84-3160-476d-b89d-9de7d574e1a6",
   "metadata": {},
   "outputs": [
    {
     "data": {
      "text/html": [
       "<div>\n",
       "<style scoped>\n",
       "    .dataframe tbody tr th:only-of-type {\n",
       "        vertical-align: middle;\n",
       "    }\n",
       "\n",
       "    .dataframe tbody tr th {\n",
       "        vertical-align: top;\n",
       "    }\n",
       "\n",
       "    .dataframe thead th {\n",
       "        text-align: right;\n",
       "    }\n",
       "</style>\n",
       "<table border=\"1\" class=\"dataframe\">\n",
       "  <thead>\n",
       "    <tr style=\"text-align: right;\">\n",
       "      <th></th>\n",
       "      <th>RecordID</th>\n",
       "      <th>Country</th>\n",
       "      <th>Gender</th>\n",
       "      <th>Demographics Question</th>\n",
       "      <th>Demographics Response</th>\n",
       "      <th>Question</th>\n",
       "      <th>Survey Year</th>\n",
       "      <th>Value</th>\n",
       "    </tr>\n",
       "  </thead>\n",
       "  <tbody>\n",
       "    <tr>\n",
       "      <th>0</th>\n",
       "      <td>1</td>\n",
       "      <td>Afghanistan</td>\n",
       "      <td>F</td>\n",
       "      <td>Marital status</td>\n",
       "      <td>Never married</td>\n",
       "      <td>... if she burns the food</td>\n",
       "      <td>01/01/2015</td>\n",
       "      <td>NaN</td>\n",
       "    </tr>\n",
       "    <tr>\n",
       "      <th>1</th>\n",
       "      <td>1</td>\n",
       "      <td>Afghanistan</td>\n",
       "      <td>F</td>\n",
       "      <td>Education</td>\n",
       "      <td>Higher</td>\n",
       "      <td>... if she burns the food</td>\n",
       "      <td>01/01/2015</td>\n",
       "      <td>10.1</td>\n",
       "    </tr>\n",
       "    <tr>\n",
       "      <th>2</th>\n",
       "      <td>1</td>\n",
       "      <td>Afghanistan</td>\n",
       "      <td>F</td>\n",
       "      <td>Education</td>\n",
       "      <td>Secondary</td>\n",
       "      <td>... if she burns the food</td>\n",
       "      <td>01/01/2015</td>\n",
       "      <td>13.7</td>\n",
       "    </tr>\n",
       "    <tr>\n",
       "      <th>3</th>\n",
       "      <td>1</td>\n",
       "      <td>Afghanistan</td>\n",
       "      <td>F</td>\n",
       "      <td>Education</td>\n",
       "      <td>Primary</td>\n",
       "      <td>... if she burns the food</td>\n",
       "      <td>01/01/2015</td>\n",
       "      <td>13.8</td>\n",
       "    </tr>\n",
       "    <tr>\n",
       "      <th>4</th>\n",
       "      <td>1</td>\n",
       "      <td>Afghanistan</td>\n",
       "      <td>F</td>\n",
       "      <td>Marital status</td>\n",
       "      <td>Widowed, divorced, separated</td>\n",
       "      <td>... if she burns the food</td>\n",
       "      <td>01/01/2015</td>\n",
       "      <td>13.8</td>\n",
       "    </tr>\n",
       "    <tr>\n",
       "      <th>5</th>\n",
       "      <td>1</td>\n",
       "      <td>Afghanistan</td>\n",
       "      <td>F</td>\n",
       "      <td>Employment</td>\n",
       "      <td>Employed for kind</td>\n",
       "      <td>... if she burns the food</td>\n",
       "      <td>01/01/2015</td>\n",
       "      <td>17.0</td>\n",
       "    </tr>\n",
       "    <tr>\n",
       "      <th>6</th>\n",
       "      <td>1</td>\n",
       "      <td>Afghanistan</td>\n",
       "      <td>F</td>\n",
       "      <td>Age</td>\n",
       "      <td>15-24</td>\n",
       "      <td>... if she burns the food</td>\n",
       "      <td>01/01/2015</td>\n",
       "      <td>17.3</td>\n",
       "    </tr>\n",
       "    <tr>\n",
       "      <th>7</th>\n",
       "      <td>1</td>\n",
       "      <td>Afghanistan</td>\n",
       "      <td>F</td>\n",
       "      <td>Employment</td>\n",
       "      <td>Unemployed</td>\n",
       "      <td>... if she burns the food</td>\n",
       "      <td>01/01/2015</td>\n",
       "      <td>18.0</td>\n",
       "    </tr>\n",
       "    <tr>\n",
       "      <th>8</th>\n",
       "      <td>1</td>\n",
       "      <td>Afghanistan</td>\n",
       "      <td>F</td>\n",
       "      <td>Residence</td>\n",
       "      <td>Rural</td>\n",
       "      <td>... if she burns the food</td>\n",
       "      <td>01/01/2015</td>\n",
       "      <td>18.1</td>\n",
       "    </tr>\n",
       "    <tr>\n",
       "      <th>9</th>\n",
       "      <td>1</td>\n",
       "      <td>Afghanistan</td>\n",
       "      <td>F</td>\n",
       "      <td>Age</td>\n",
       "      <td>25-34</td>\n",
       "      <td>... if she burns the food</td>\n",
       "      <td>01/01/2015</td>\n",
       "      <td>18.2</td>\n",
       "    </tr>\n",
       "  </tbody>\n",
       "</table>\n",
       "</div>"
      ],
      "text/plain": [
       "   RecordID      Country Gender Demographics Question  \\\n",
       "0         1  Afghanistan      F        Marital status   \n",
       "1         1  Afghanistan      F             Education   \n",
       "2         1  Afghanistan      F             Education   \n",
       "3         1  Afghanistan      F             Education   \n",
       "4         1  Afghanistan      F        Marital status   \n",
       "5         1  Afghanistan      F            Employment   \n",
       "6         1  Afghanistan      F                   Age   \n",
       "7         1  Afghanistan      F            Employment   \n",
       "8         1  Afghanistan      F             Residence   \n",
       "9         1  Afghanistan      F                   Age   \n",
       "\n",
       "          Demographics Response                   Question Survey Year  Value  \n",
       "0                 Never married  ... if she burns the food  01/01/2015    NaN  \n",
       "1                        Higher  ... if she burns the food  01/01/2015   10.1  \n",
       "2                     Secondary  ... if she burns the food  01/01/2015   13.7  \n",
       "3                       Primary  ... if she burns the food  01/01/2015   13.8  \n",
       "4  Widowed, divorced, separated  ... if she burns the food  01/01/2015   13.8  \n",
       "5             Employed for kind  ... if she burns the food  01/01/2015   17.0  \n",
       "6                         15-24  ... if she burns the food  01/01/2015   17.3  \n",
       "7                    Unemployed  ... if she burns the food  01/01/2015   18.0  \n",
       "8                         Rural  ... if she burns the food  01/01/2015   18.1  \n",
       "9                         25-34  ... if she burns the food  01/01/2015   18.2  "
      ]
     },
     "execution_count": 37,
     "metadata": {},
     "output_type": "execute_result"
    }
   ],
   "source": [
    "violence_data = pd.read_csv('violence_data.csv')\n",
    "violence_data.head(10)"
   ]
  },
  {
   "cell_type": "code",
   "execution_count": 27,
   "id": "a2604f4b-9920-4b75-9e08-92775004f48c",
   "metadata": {},
   "outputs": [
    {
     "name": "stdout",
     "output_type": "stream",
     "text": [
      "<class 'pandas.core.frame.DataFrame'>\n",
      "RangeIndex: 12600 entries, 0 to 12599\n",
      "Data columns (total 8 columns):\n",
      " #   Column                 Non-Null Count  Dtype  \n",
      "---  ------                 --------------  -----  \n",
      " 0   RecordID               12600 non-null  int64  \n",
      " 1   Country                12600 non-null  object \n",
      " 2   Gender                 12600 non-null  object \n",
      " 3   Demographics Question  12600 non-null  object \n",
      " 4   Demographics Response  12600 non-null  object \n",
      " 5   Question               12600 non-null  object \n",
      " 6   Survey Year            12600 non-null  object \n",
      " 7   Value                  11187 non-null  float64\n",
      "dtypes: float64(1), int64(1), object(6)\n",
      "memory usage: 787.6+ KB\n"
     ]
    }
   ],
   "source": [
    "violence_data.info()"
   ]
  },
  {
   "cell_type": "code",
   "execution_count": 35,
   "id": "1999942f-9e4e-4639-b777-08c8e8da9077",
   "metadata": {},
   "outputs": [
    {
     "data": {
      "text/plain": [
       "RecordID                 420\n",
       "Country                   70\n",
       "Gender                     2\n",
       "Demographics Question      5\n",
       "Demographics Response     15\n",
       "Question                   6\n",
       "Survey Year               18\n",
       "Value                    757\n",
       "dtype: int64"
      ]
     },
     "execution_count": 35,
     "metadata": {},
     "output_type": "execute_result"
    }
   ],
   "source": [
    "violence_data.nunique()"
   ]
  },
  {
   "cell_type": "code",
   "execution_count": 43,
   "id": "3f493f20-6461-43b6-9f6e-c5bfc4b61c1f",
   "metadata": {},
   "outputs": [
    {
     "data": {
      "text/plain": [
       "RecordID                    0\n",
       "Country                     0\n",
       "Gender                      0\n",
       "Demographics Question       0\n",
       "Demographics Response       0\n",
       "Question                    0\n",
       "Survey Year                 0\n",
       "Value                    1413\n",
       "dtype: int64"
      ]
     },
     "execution_count": 43,
     "metadata": {},
     "output_type": "execute_result"
    }
   ],
   "source": [
    "violence_data.isnull().sum()"
   ]
  },
  {
   "cell_type": "code",
   "execution_count": 45,
   "id": "9fe73d2c-fa41-4a41-9019-60aad22e3870",
   "metadata": {},
   "outputs": [
    {
     "data": {
      "text/plain": [
       "Index(['RecordID', 'Country', 'Gender', 'Demographics Question',\n",
       "       'Demographics Response', 'Question', 'Survey Year', 'Value'],\n",
       "      dtype='object')"
      ]
     },
     "execution_count": 45,
     "metadata": {},
     "output_type": "execute_result"
    }
   ],
   "source": [
    "violence_data.columns"
   ]
  },
  {
   "cell_type": "code",
   "execution_count": 47,
   "id": "bae60512-9f5c-461e-9436-25e94b6f2edd",
   "metadata": {},
   "outputs": [
    {
     "data": {
      "text/html": [
       "<div>\n",
       "<style scoped>\n",
       "    .dataframe tbody tr th:only-of-type {\n",
       "        vertical-align: middle;\n",
       "    }\n",
       "\n",
       "    .dataframe tbody tr th {\n",
       "        vertical-align: top;\n",
       "    }\n",
       "\n",
       "    .dataframe thead th {\n",
       "        text-align: right;\n",
       "    }\n",
       "</style>\n",
       "<table border=\"1\" class=\"dataframe\">\n",
       "  <thead>\n",
       "    <tr style=\"text-align: right;\">\n",
       "      <th></th>\n",
       "      <th>RecordID</th>\n",
       "      <th>Value</th>\n",
       "    </tr>\n",
       "  </thead>\n",
       "  <tbody>\n",
       "    <tr>\n",
       "      <th>count</th>\n",
       "      <td>12600.000000</td>\n",
       "      <td>11187.000000</td>\n",
       "    </tr>\n",
       "    <tr>\n",
       "      <th>mean</th>\n",
       "      <td>210.500000</td>\n",
       "      <td>19.762537</td>\n",
       "    </tr>\n",
       "    <tr>\n",
       "      <th>std</th>\n",
       "      <td>121.248024</td>\n",
       "      <td>16.986437</td>\n",
       "    </tr>\n",
       "    <tr>\n",
       "      <th>min</th>\n",
       "      <td>1.000000</td>\n",
       "      <td>0.000000</td>\n",
       "    </tr>\n",
       "    <tr>\n",
       "      <th>25%</th>\n",
       "      <td>105.750000</td>\n",
       "      <td>6.200000</td>\n",
       "    </tr>\n",
       "    <tr>\n",
       "      <th>50%</th>\n",
       "      <td>210.500000</td>\n",
       "      <td>14.900000</td>\n",
       "    </tr>\n",
       "    <tr>\n",
       "      <th>75%</th>\n",
       "      <td>315.250000</td>\n",
       "      <td>29.200000</td>\n",
       "    </tr>\n",
       "    <tr>\n",
       "      <th>max</th>\n",
       "      <td>420.000000</td>\n",
       "      <td>86.900000</td>\n",
       "    </tr>\n",
       "  </tbody>\n",
       "</table>\n",
       "</div>"
      ],
      "text/plain": [
       "           RecordID         Value\n",
       "count  12600.000000  11187.000000\n",
       "mean     210.500000     19.762537\n",
       "std      121.248024     16.986437\n",
       "min        1.000000      0.000000\n",
       "25%      105.750000      6.200000\n",
       "50%      210.500000     14.900000\n",
       "75%      315.250000     29.200000\n",
       "max      420.000000     86.900000"
      ]
     },
     "execution_count": 47,
     "metadata": {},
     "output_type": "execute_result"
    }
   ],
   "source": [
    "violence_data.describe()"
   ]
  },
  {
   "cell_type": "markdown",
   "id": "c1548f32-6731-4ba4-a8d6-efcd945eb5b7",
   "metadata": {},
   "source": [
    "## Data Information \n",
    "Some immediate insights are:\n",
    "* There are 8 columns and 12600 rows.\n",
    "* The name and datatype of each column most values are strings in this data set.\n",
    "* We have missing data is in the Value column."
   ]
  },
  {
   "cell_type": "markdown",
   "id": "e9e0c04a-377d-4003-bbff-4f14385331d0",
   "metadata": {},
   "source": [
    "## Data Cleaning\n",
    "As mentioned before, the `Value` column has missing data. We exactly have 1413 missing values in this column, it represents approximately the 11%. Even though is big percentage of missing data. We have decided to use `Listwise Deleteion`, because we consider this data as `Missing At Random` data, also known as `MAR`.  \n",
    "\n"
   ]
  },
  {
   "cell_type": "code",
   "execution_count": 50,
   "id": "fe74da9f-b146-44a2-97e4-7bc2cbedc83a",
   "metadata": {},
   "outputs": [],
   "source": [
    "violence_data.dropna(inplace=True)"
   ]
  },
  {
   "cell_type": "code",
   "execution_count": 52,
   "id": "6792a41d-5782-4c89-a7e0-c2eb85081a8a",
   "metadata": {},
   "outputs": [
    {
     "name": "stdout",
     "output_type": "stream",
     "text": [
      "<class 'pandas.core.frame.DataFrame'>\n",
      "Index: 11187 entries, 1 to 12599\n",
      "Data columns (total 8 columns):\n",
      " #   Column                 Non-Null Count  Dtype  \n",
      "---  ------                 --------------  -----  \n",
      " 0   RecordID               11187 non-null  int64  \n",
      " 1   Country                11187 non-null  object \n",
      " 2   Gender                 11187 non-null  object \n",
      " 3   Demographics Question  11187 non-null  object \n",
      " 4   Demographics Response  11187 non-null  object \n",
      " 5   Question               11187 non-null  object \n",
      " 6   Survey Year            11187 non-null  object \n",
      " 7   Value                  11187 non-null  float64\n",
      "dtypes: float64(1), int64(1), object(6)\n",
      "memory usage: 786.6+ KB\n"
     ]
    }
   ],
   "source": [
    "violence_data.info()"
   ]
  },
  {
   "cell_type": "code",
   "execution_count": null,
   "id": "daa6ab08-9cf0-4f1c-bc9f-14e855c16f3d",
   "metadata": {},
   "outputs": [],
   "source": []
  }
 ],
 "metadata": {
  "kernelspec": {
   "display_name": "Python 3 (ipykernel)",
   "language": "python",
   "name": "python3"
  },
  "language_info": {
   "codemirror_mode": {
    "name": "ipython",
    "version": 3
   },
   "file_extension": ".py",
   "mimetype": "text/x-python",
   "name": "python",
   "nbconvert_exporter": "python",
   "pygments_lexer": "ipython3",
   "version": "3.11.7"
  }
 },
 "nbformat": 4,
 "nbformat_minor": 5
}
